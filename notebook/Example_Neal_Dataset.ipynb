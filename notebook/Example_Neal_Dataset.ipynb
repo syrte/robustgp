{
 "cells": [
  {
   "cell_type": "markdown",
   "id": "9b1e693f",
   "metadata": {},
   "source": [
    "## Install"
   ]
  },
  {
   "cell_type": "markdown",
   "id": "6313c58a",
   "metadata": {},
   "source": [
    "Install robustgp via pip:\n",
    "```\n",
    "pip install robustgp\n",
    "```"
   ]
  },
  {
   "cell_type": "markdown",
   "id": "24f28e7f",
   "metadata": {},
   "source": [
    "## Import libraries"
   ]
  },
  {
   "cell_type": "code",
   "execution_count": null,
   "id": "01bc90b6",
   "metadata": {},
   "outputs": [],
   "source": [
    "from robustgp import ITGP\n",
    "import GPy\n",
    "from matplotlib import pyplot as plt\n",
    "import numpy as np"
   ]
  },
  {
   "cell_type": "markdown",
   "id": "507afe3f",
   "metadata": {},
   "source": [
    "## Generate mock data"
   ]
  },
  {
   "cell_type": "code",
   "execution_count": null,
   "id": "35f03902",
   "metadata": {},
   "outputs": [],
   "source": [
    "def neal_func(x):\n",
    "    return 0.3 + 0.4 * x + 0.5 * np.sin(2.7 * x) + 1.1 / (1 + x**2)\n",
    "\n",
    "np.random.seed(5)\n",
    "\n",
    "# generate mock data\n",
    "n = 200\n",
    "noise = 0.2\n",
    "n_outlier = 60\n",
    "noise_outlier = 1\n",
    "\n",
    "x_ob = np.random.rand(n) * 6 - 3\n",
    "y_ob = neal_func(x_ob) + np.random.randn(n) * noise\n",
    "y_ob[:n_outlier] = neal_func(x_ob[:n_outlier]) + np.random.randn(n_outlier) * noise_outlier"
   ]
  },
  {
   "cell_type": "markdown",
   "id": "aa4ae2ff",
   "metadata": {},
   "source": [
    "## Train ITGP"
   ]
  },
  {
   "cell_type": "code",
   "execution_count": null,
   "id": "e799585c",
   "metadata": {},
   "outputs": [],
   "source": [
    "# run ITGP\n",
    "res = ITGP(x_ob, y_ob,\n",
    "           alpha1=0.5, alpha2=0.975, nsh=2, ncc=2, nrw=1,\n",
    "           optimize_kwargs=dict(optimizer='lbfgsb')\n",
    "           )\n",
    "gp, consistency = res.gp, res.consistency"
   ]
  },
  {
   "cell_type": "code",
   "execution_count": null,
   "id": "f696dea9",
   "metadata": {},
   "outputs": [],
   "source": [
    "# consistency factor\n",
    "print(consistency**0.5)"
   ]
  },
  {
   "cell_type": "code",
   "execution_count": null,
   "id": "67e12d30",
   "metadata": {},
   "outputs": [],
   "source": [
    "# GPy.core.GP object\n",
    "gp"
   ]
  },
  {
   "cell_type": "markdown",
   "id": "14af9a13",
   "metadata": {},
   "source": [
    "## Show results"
   ]
  },
  {
   "cell_type": "code",
   "execution_count": null,
   "id": "5eb7a9fd",
   "metadata": {},
   "outputs": [],
   "source": [
    "# check prediction on a grid\n",
    "x = np.linspace(-3, 3, 51)\n",
    "y_tr = neal_func(x)\n",
    "\n",
    "# make prediction\n",
    "y_avg, y_var = gp.predict(x.reshape(-1, 1))  # mean and variance\n",
    "y_avg, y_var = y_avg.ravel(), y_var.ravel()  # flatten the array\n",
    "\n",
    "y_var *= consistency  # consistency correction!\n",
    "y_std = y_var ** 0.5\n",
    "\n",
    "# plot\n",
    "plt.scatter(x_ob, y_ob, facecolor='none', edgecolor='C0', zorder=-1)\n",
    "plt.plot(x, y_tr, color='k', lw=2, ls='--', label='True')\n",
    "plt.plot(x, y_avg, color='C3', lw=2, label='ITGP')\n",
    "plt.fill_between(x, y_avg - y_std, y_avg + y_std, lw=0, color='C2', alpha=0.5, zorder=-2)\n",
    "\n",
    "plt.legend()"
   ]
  },
  {
   "cell_type": "code",
   "execution_count": null,
   "id": "3a318803",
   "metadata": {},
   "outputs": [],
   "source": [
    "# compare the predicted noise and the true noise of the main sample\n",
    "print(noise, y_std.mean())"
   ]
  },
  {
   "cell_type": "markdown",
   "id": "6a9805d6",
   "metadata": {},
   "source": [
    "## Advanced example"
   ]
  },
  {
   "cell_type": "markdown",
   "id": "ad9cc959",
   "metadata": {},
   "source": [
    "### Use custom kernels and set bounds of hyperparameters"
   ]
  },
  {
   "cell_type": "code",
   "execution_count": null,
   "id": "5495f997",
   "metadata": {},
   "outputs": [],
   "source": [
    "# use a Matern52 kernel and use a white noise likelihood\n",
    "kernel = GPy.kern.Matern52(input_dim=1, variance=1, lengthscale=1)\n",
    "likelihood = GPy.likelihoods.Gaussian(variance=1)\n",
    "\n",
    "# optional: set bounds of hyperparameters\n",
    "kernel.lengthscale.constrain_bounded(0.1, 10, warning=False) \n",
    "kernel.variance.constrain_bounded(0, 10, warning=False)\n",
    "likelihood.variance.constrain_bounded(0, 10, warning=False)\n",
    "\n",
    "# run\n",
    "res = ITGP(x_ob, y_ob,\n",
    "           alpha1=0.5, alpha2=0.975, nsh=2, ncc=2, nrw=1,\n",
    "           kernel=kernel, likelihood=likelihood,\n",
    "           optimize_kwargs=dict(optimizer='lbfgsb')\n",
    "           )\n",
    "gp, consistency = res.gp, res.consistency"
   ]
  },
  {
   "cell_type": "code",
   "execution_count": null,
   "id": "740b04c2",
   "metadata": {},
   "outputs": [],
   "source": [
    "# plot\n",
    "x = np.linspace(-3, 3, 51)\n",
    "y_tr = neal_func(x)\n",
    "\n",
    "y_avg, y_var = gp.predict(x.reshape(-1, 1))\n",
    "y_avg, y_var = y_avg.ravel(), y_var.ravel()  # flatten the array\n",
    "\n",
    "y_var *= consistency  # consistency correction!\n",
    "y_std = y_var ** 0.5\n",
    "\n",
    "plt.scatter(x_ob, y_ob, facecolor='none', edgecolor='C0', zorder=-1)\n",
    "plt.plot(x, y_tr, color='k', lw=2, ls='--', label='True')\n",
    "plt.plot(x, y_avg, color='C3', lw=2, label='ITGP')\n",
    "plt.fill_between(x, y_avg - y_std, y_avg + y_std, lw=0, color='C2', alpha=0.5, zorder=-2)\n",
    "\n",
    "plt.legend()"
   ]
  }
 ],
 "metadata": {
  "kernelspec": {
   "display_name": "Python 3",
   "language": "python",
   "name": "python3"
  },
  "language_info": {
   "codemirror_mode": {
    "name": "ipython",
    "version": 3
   },
   "file_extension": ".py",
   "mimetype": "text/x-python",
   "name": "python",
   "nbconvert_exporter": "python",
   "pygments_lexer": "ipython3",
   "version": "3.8.8"
  }
 },
 "nbformat": 4,
 "nbformat_minor": 5
}
